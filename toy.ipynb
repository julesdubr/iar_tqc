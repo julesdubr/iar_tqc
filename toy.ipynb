{
 "cells": [
  {
   "cell_type": "code",
   "execution_count": 35,
   "metadata": {},
   "outputs": [],
   "source": [
    "import numpy as np\n",
    "from sb3_contrib import TQC\n",
    "from stable_baselines3.common.evaluation import evaluate_policy\n",
    "from stable_baselines3.common.monitor import Monitor\n",
    "\n",
    "from single_state_mdp import SingleStateMDP\n",
    "\n",
    "import matplotlib.pyplot as plt"
   ]
  },
  {
   "attachments": {},
   "cell_type": "markdown",
   "metadata": {},
   "source": [
    "## V1"
   ]
  },
  {
   "cell_type": "code",
   "execution_count": 23,
   "metadata": {},
   "outputs": [],
   "source": [
    "def make_env():\n",
    "    # Define and return an instance of the SingleStateMDP environment\n",
    "    return SingleStateMDP()"
   ]
  },
  {
   "cell_type": "code",
   "execution_count": 29,
   "metadata": {},
   "outputs": [],
   "source": [
    "# Create the TQC agent with specified parameters\n",
    "policy_kwargs = {\"n_quantiles\": 25, \"n_critics\": 2, \"net_arch\": [50,50]}"
   ]
  },
  {
   "cell_type": "code",
   "execution_count": 30,
   "metadata": {},
   "outputs": [],
   "source": [
    "quantiles_to_drop = [0, 1, 2, 3, 4, 5, 6, 7, 10, 13, 16]\n",
    "agents = [None] * 11"
   ]
  },
  {
   "cell_type": "code",
   "execution_count": 31,
   "metadata": {},
   "outputs": [
    {
     "name": "stdout",
     "output_type": "stream",
     "text": [
      "[0] 0.607 +/- 0.280\n",
      "[1] 0.561 +/- 0.261\n",
      "[2] 0.608 +/- 0.251\n",
      "[3] 0.635 +/- 0.250\n",
      "[4] 0.574 +/- 0.257\n",
      "[5] 0.593 +/- 0.267\n",
      "[6] 0.632 +/- 0.233\n",
      "[7] 0.617 +/- 0.236\n",
      "[10] 0.586 +/- 0.227\n",
      "[13] 0.617 +/- 0.235\n",
      "[16] 0.571 +/- 0.240\n"
     ]
    }
   ],
   "source": [
    "for i, d in enumerate(quantiles_to_drop):\n",
    "    env = make_env()\n",
    "    eval_env = Monitor(make_env())\n",
    "\n",
    "    agents[i] = TQC(\"MlpPolicy\", env, policy_kwargs=policy_kwargs, top_quantiles_to_drop_per_net=d)\n",
    "    # Train the agent for the desired number of iterations\n",
    "    agents[i].learn(total_timesteps=3000)\n",
    "\n",
    "    # Evaluate the performance of the TQC agent using the evaluate_policy function\n",
    "    mean_rewards, std_rewards = evaluate_policy(agents[i], eval_env, n_eval_episodes=100)\n",
    "\n",
    "    print(f'[{d}] {mean_rewards:.3f} +/- {std_rewards:.3f}')"
   ]
  },
  {
   "cell_type": "code",
   "execution_count": 33,
   "metadata": {},
   "outputs": [],
   "source": [
    "points = np.zeros((11,2))"
   ]
  },
  {
   "cell_type": "code",
   "execution_count": 34,
   "metadata": {},
   "outputs": [
    {
     "name": "stdout",
     "output_type": "stream",
     "text": [
      "Signed Discrepency: 0.104 +/- 0.473\n",
      "Signed Discrepency: 0.121 +/- 0.472\n",
      "Signed Discrepency: 0.105 +/- 0.467\n",
      "Signed Discrepency: 0.113 +/- 0.463\n",
      "Signed Discrepency: 0.105 +/- 0.474\n",
      "Signed Discrepency: 0.103 +/- 0.473\n",
      "Signed Discrepency: 0.110 +/- 0.463\n",
      "Signed Discrepency: 0.120 +/- 0.478\n",
      "Signed Discrepency: 0.098 +/- 0.465\n",
      "Signed Discrepency: 0.091 +/- 0.473\n",
      "Signed Discrepency: 0.105 +/- 0.467\n"
     ]
    }
   ],
   "source": [
    "# Define a dense uniform grid of actions to evaluate the approximations on\n",
    "actions = np.linspace(-1, 1, 2000)\n",
    "\n",
    "# Initialize arrays to store the results\n",
    "signed_discrepancies = np.zeros(actions.shape)\n",
    "\n",
    "for i, agent in enumerate(agents):\n",
    "    # Evaluate the performance of the TQC agent on the dense uniform grid of actions\n",
    "    for j, action in enumerate(actions):\n",
    "        # Get the approximate Q-value for the current action\n",
    "        q_value, _ = agent.predict(np.array([0]), np.array([action]))\n",
    "        \n",
    "        # Calculate the signed discrepancy between the approximate Q-value and the true Q-value\n",
    "        signed_discrepancy = q_value - env._mean_reward(action)\n",
    "        \n",
    "        # Store the results\n",
    "        signed_discrepancies[j] = signed_discrepancy\n",
    "\n",
    "    points[i,0] = signed_discrepancies.mean()\n",
    "    points[i,1] = signed_discrepancies.std()\n",
    "\n",
    "    print(f'Signed Discrepency: {signed_discrepancies.mean():.3f} +/- {signed_discrepancies.std():.3f}')"
   ]
  },
  {
   "cell_type": "code",
   "execution_count": 36,
   "metadata": {},
   "outputs": [
    {
     "data": {
      "text/plain": [
       "<matplotlib.collections.PathCollection at 0x7f455099f1d0>"
      ]
     },
     "execution_count": 36,
     "metadata": {},
     "output_type": "execute_result"
    },
    {
     "data": {
      "image/png": "[encoded data removed]",
      "text/plain": [
       "<Figure size 432x288 with 1 Axes>"
      ]
     },
     "metadata": {
      "needs_background": "light"
     },
     "output_type": "display_data"
    }
   ],
   "source": [
    "plt.scatter(points[:,0], points[:,1])"
   ]
  },
  {
   "attachments": {},
   "cell_type": "markdown",
   "metadata": {},
   "source": [
    "## V2"
   ]
  },
  {
   "cell_type": "code",
   "execution_count": 82,
   "metadata": {},
   "outputs": [],
   "source": [
    "import torch\n",
    "import torch.nn as nn\n",
    "import torch.nn.functional as F\n",
    "\n",
    "import numpy as np\n",
    "\n",
    "from single_state_mdp import SingleStateMDP\n",
    "import random"
   ]
  },
  {
   "cell_type": "code",
   "execution_count": 5,
   "metadata": {},
   "outputs": [],
   "source": [
    "DEVICE = torch.device(\"cuda\" if torch.cuda.is_available() else \"cpu\")"
   ]
  },
  {
   "cell_type": "code",
   "execution_count": 6,
   "metadata": {},
   "outputs": [],
   "source": [
    "def quantile_huber_loss_f(quantiles, samples):\n",
    "    pairwise_delta = samples[:, None, None, :] - quantiles[:, :, :, None]  # batch x nets x quantiles x samples\n",
    "    abs_pairwise_delta = torch.abs(pairwise_delta)\n",
    "    huber_loss = torch.where(abs_pairwise_delta > 1,\n",
    "                             abs_pairwise_delta - 0.5,\n",
    "                             pairwise_delta ** 2 * 0.5)\n",
    "\n",
    "    n_quantiles = quantiles.shape[2]\n",
    "    tau = torch.arange(n_quantiles, device=DEVICE).float() / n_quantiles + 1 / 2 / n_quantiles\n",
    "    loss = (torch.abs(tau[None, None, :, None] - (pairwise_delta < 0).float()) * huber_loss).mean()\n",
    "    return loss"
   ]
  },
  {
   "cell_type": "code",
   "execution_count": 50,
   "metadata": {},
   "outputs": [],
   "source": [
    "class Critic(nn.Module):\n",
    "    def __init__(\n",
    "        self, state_dim, action_dim, n_nets, n_quantiles, dropped_quantiles=1, bias_correction_method=\"AVG\"\n",
    "    ):\n",
    "        super().__init__()\n",
    "        self.n_quantiles = n_quantiles\n",
    "        self.dropped_quantiles = dropped_quantiles\n",
    "        self.n_nets = n_nets\n",
    "        self.bias_correction_method = bias_correction_method\n",
    "\n",
    "        # Define a list of Q-networks with the given architecture\n",
    "        self.nets = [\n",
    "            nn.Sequential(\n",
    "                nn.Linear(state_dim + action_dim, 50),\n",
    "                nn.ReLU(),\n",
    "                nn.Linear(50, 50),\n",
    "                nn.ReLU(),\n",
    "                nn.Linear(50, n_quantiles),\n",
    "            )\n",
    "            for _ in range(n_nets)\n",
    "        ]\n",
    "\n",
    "    def forward(self, state, action):\n",
    "        # sa = torch.cat((state, action), dim=1)\n",
    "        sa = torch.tensor((state, action))\n",
    "        quantiles = torch.stack(tuple(net(sa) for net in self.nets), dim=1)\n",
    "        return quantiles\n",
    "\n",
    "    def train(self, replay_buffer, optimizer, num_iterations=3000):\n",
    "        for i in range(num_iterations):\n",
    "            # Sample a batch of transitions from the replay buffer\n",
    "            state, action, reward, next_state, done = replay_buffer.sample()\n",
    "\n",
    "            # Calculate the target Q-value for each transition\n",
    "            with torch.no_grad():\n",
    "                next_mean, next_variance = self(next_state, action)\n",
    "                target = reward + (1 - done) * self.gamma * next_mean\n",
    "\n",
    "            # Calculate the loss for the Q-network\n",
    "            mean, variance = self(state, action)\n",
    "            loss = 0\n",
    "            if self.bias_correction_method == 'AVG':\n",
    "                # Calculate the loss using the mean of the Q-value distribution\n",
    "                loss = F.mse_loss(mean, target)\n",
    "            elif self.bias_correction_method == 'MIN':\n",
    "                # Calculate the loss using the minimum value of the Q-value distribution\n",
    "                loss = F.mse_loss(mean.min(dim=1, keepdim=True)[0], target)\n",
    "            elif self.bias_correction_method == 'TQC':\n",
    "                # Calculate the loss using the TQC bias correction method\n",
    "                sorted_quantiles, _ = torch.sort(mean, dim=1)\n",
    "                quantile_values = sorted_quantiles[:, :self.n_quantiles-self.dropped_quantiles]\n",
    "                loss = quantile_huber_loss_f(quantile_values, target)\n",
    "\n",
    "            # Backpropagate the loss and update the weights\n",
    "            optimizer.zero_grad()\n",
    "            loss.backward()\n",
    "            optimizer.step()\n",
    "\n",
    "    def predict(self, action):\n",
    "        # Evaluate each Q-network on the given action and return a list of the corresponding approximate Q-values\n",
    "        return [network(action).item() for network in self.nets]\n"
   ]
  },
  {
   "cell_type": "code",
   "execution_count": 83,
   "metadata": {},
   "outputs": [],
   "source": [
    "class ReplayBuffer:\n",
    "    def __init__(self, env, size):\n",
    "        self.transitions = []\n",
    "\n",
    "        for action in np.linspace(-1., 1., size):\n",
    "            state = 0\n",
    "            next_state, reward, done, _ = env.step(action)\n",
    "            self.transitions.append((state, action, next_state, reward, done))\n",
    "\n",
    "    def sample(self):\n",
    "        return random.choice(self.transitions)"
   ]
  },
  {
   "cell_type": "code",
   "execution_count": 84,
   "metadata": {},
   "outputs": [],
   "source": [
    "env = SingleStateMDP()\n",
    "state_dim = env.observation_space.n\n",
    "action_dim = env.action_space.shape[0]\n",
    "critic = Critic(state_dim, action_dim, 3, 25, 1)"
   ]
  }
 ],
 "metadata": {
  "kernelspec": {
   "display_name": "Python 3.7.0 ('tqc')",
   "language": "python",
   "name": "python3"
  },
  "language_info": {
   "codemirror_mode": {
    "name": "ipython",
    "version": 3
   },
   "file_extension": ".py",
   "mimetype": "text/x-python",
   "name": "python",
   "nbconvert_exporter": "python",
   "pygments_lexer": "ipython3",
   "version": "3.6.9"
  },
  "orig_nbformat": 4,
  "vscode": {
   "interpreter": {
    "hash": "a14f325d447890c1aa81d5004c3a59981b75ede9581a60409be6700f02a9947e"
   }
  }
 },
 "nbformat": 4,
 "nbformat_minor": 2
}
